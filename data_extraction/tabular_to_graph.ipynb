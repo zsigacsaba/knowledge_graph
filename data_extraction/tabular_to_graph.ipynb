{
 "cells": [
  {
   "cell_type": "code",
   "execution_count": 1,
   "id": "8ae6ae4d",
   "metadata": {},
   "outputs": [],
   "source": [
    "import pandas as pd\n",
    "from py2neo import Graph"
   ]
  },
  {
   "cell_type": "code",
   "execution_count": 3,
   "id": "af6b88a5",
   "metadata": {},
   "outputs": [
    {
     "data": {
      "text/html": [
       "(No data)"
      ],
      "text/plain": [
       "(No data)"
      ]
     },
     "execution_count": 3,
     "metadata": {},
     "output_type": "execute_result"
    }
   ],
   "source": [
    "#####################################################################\n",
    "# Graph database config\n",
    "#####################################################################\n",
    "\n",
    "# Set up a link to the local graph database.\n",
    "# Ideally get password from ENV variable\n",
    "# graph = Graph(getenv(\"NEO4J_URL\"), auth=(getenv(\"NEO4J_UID\"), getenv(\"NEO4J_PASSWORD\")))\n",
    "# graph = Graph(\"bolt://127.0.0.1:7687\", auth=('neo4j', 'test'))\n",
    "\n",
    "# Add uniqueness constraints.\n",
    "graph.run(\"CREATE CONSTRAINT ON (p:Person) ASSERT p.uid IS UNIQUE;\")\n",
    "graph.run(\"CREATE CONSTRAINT ON (c:Country) ASSERT c.name IS UNIQUE;\")\n",
    "graph.run(\"CREATE CONSTRAINT ON (m:MajorStream) ASSERT m.name IS UNIQUE;\")\n",
    "graph.run(\"CREATE CONSTRAINT ON (w:WorkType) ASSERT w.name IS UNIQUE;\")\n"
   ]
  },
  {
   "cell_type": "code",
   "execution_count": 7,
   "id": "599af0de",
   "metadata": {},
   "outputs": [],
   "source": [
    "def read_data():\n",
    "    data = pd.read_csv(\n",
    "\n",
    "        \"./data/survey_results_public.csv\",\n",
    "        low_memory=False)\n",
    "    print(\"Column name of data : \", data.columns)\n",
    "    return data\n",
    "\n",
    "\n",
    "def process_user_data(data):\n",
    "    user_data = data[['Respondent','Hobby', 'OpenSource', 'Student', 'Employment', 'CompanySize', 'YearsCoding']]\n",
    "    user_data =  user_data.dropna()\n",
    "\n",
    "    # Convert data frame to list of dictionaries\n",
    "    # Neo4j UNWIND query expects a list of dictionaries\n",
    "    # for bulk insertion\n",
    "    user_data = list(user_data.T.to_dict().values())\n",
    "    print(user_data)\n",
    "\n",
    "    query = \"\"\"\n",
    "            UNWIND $rows AS row\n",
    "\n",
    "            MERGE (person:Person {uid:row.Respondent})\n",
    "            ON CREATE SET \n",
    "                person.codes_as_hobby = row.Hobby,\n",
    "                person.contributes_to_open_source = row.OpenSource,\n",
    "                person.is_student = row.Student,\n",
    "                person.employment_status = row.Employment,\n",
    "                person.company_size = row.CompanySize,\n",
    "                person.total_years_of_coding_experience = row.YearsCoding\n",
    "        \"\"\"\n",
    "\n",
    "    run_neo_query(user_data,query)\n",
    "\n",
    "\n",
    "def process_country_data(data):\n",
    "    country_data = data[['Respondent', 'Country']]\n",
    "    country_data = country_data.dropna()\n",
    "    country_data = list(country_data.T.to_dict().values())\n",
    "\n",
    "    query = \"\"\"\n",
    "           UNWIND $rows AS row\n",
    "           MERGE (person:Person {uid:row.Respondent})\n",
    "           MERGE (country:Country {name:row.Country})\n",
    "           MERGE (person)-[:LIVES_IN]->(country)\n",
    "       \"\"\"\n",
    "    run_neo_query(country_data,query)\n",
    "\n",
    "\n",
    "def process_major_data(data):\n",
    "    major_data = data[['Respondent', 'UndergradMajor']]\n",
    "    major_data = major_data.dropna()\n",
    "    major_data = list(major_data.T.to_dict().values())\n",
    "\n",
    "    query = \"\"\"\n",
    "            UNWIND $rows AS row\n",
    "            MERGE (person:Person {uid:row.Respondent})\n",
    "            MERGE (major:MajorStream {name:row.UndergradMajor})\n",
    "            MERGE (person)-[:MAJORED_IN]->(major)\n",
    "        \"\"\"\n",
    "    run_neo_query(major_data,query)\n",
    "\n",
    "\n",
    "def process_dev_data(data):\n",
    "    dev_data = data[['Respondent', 'DevType']]\n",
    "    dev_data = dev_data.dropna()\n",
    "\n",
    "    s = dev_data['DevType'].str.split(';').apply(pd.Series, 1).stack()\n",
    "    s.name = \"DevType\"\n",
    "    del dev_data[\"DevType\"]\n",
    "    s = s.to_frame().reset_index()\n",
    "    dev_data = pd.merge(dev_data, s, right_on='level_0', left_index = True)\n",
    "\n",
    "    del dev_data[\"level_0\"]\n",
    "    del dev_data[\"level_1\"]\n",
    "    dev_data = list(dev_data.T.to_dict().values())\n",
    "\n",
    "    query = \"\"\"\n",
    "           UNWIND $rows AS row\n",
    "           MERGE (person:Person {uid:row.Respondent})\n",
    "           MERGE (work:WorkType {name:row.DevType})\n",
    "           MERGE (person)-[:WORKS_IN_INDUSTRY]->(work)\n",
    "           \n",
    "       \"\"\"\n",
    "    run_neo_query(dev_data,query)\n",
    "\n",
    "\n",
    "def run_neo_query(data, query):\n",
    "    batches = get_batches(data)\n",
    "\n",
    "    for index, batch in batches:\n",
    "        print('[Batch: %s] Will add %s node to Graph' % (index, len(batch)))\n",
    "        graph.run(query, rows=batch)\n",
    "\n",
    "\n",
    "def get_batches(lst, batch_size=100):\n",
    "    return [(i, lst[i:i + batch_size]) for i in range(0, len(lst), batch_size)]"
   ]
  },
  {
   "cell_type": "code",
   "execution_count": 8,
   "id": "e5f4e977",
   "metadata": {},
   "outputs": [
    {
     "name": "stdout",
     "output_type": "stream",
     "text": [
      "Column name of data :  Index(['Respondent', 'Hobby', 'OpenSource', 'Country', 'Student', 'Employment',\n",
      "       'FormalEducation', 'UndergradMajor', 'CompanySize', 'DevType',\n",
      "       ...\n",
      "       'Exercise', 'Gender', 'SexualOrientation', 'EducationParents',\n",
      "       'RaceEthnicity', 'Age', 'Dependents', 'MilitaryUS', 'SurveyTooLong',\n",
      "       'SurveyEasy'],\n",
      "      dtype='object', length=129)\n",
      "[{'Respondent': 1, 'Hobby': 'Yes', 'OpenSource': 'No', 'Student': 'No', 'Employment': 'Employed part-time', 'CompanySize': '20 to 99 employees', 'YearsCoding': '3-5 years'}, {'Respondent': 3, 'Hobby': 'Yes', 'OpenSource': 'Yes', 'Student': 'No', 'Employment': 'Employed full-time', 'CompanySize': '10,000 or more employees', 'YearsCoding': '30 or more years'}, {'Respondent': 4, 'Hobby': 'Yes', 'OpenSource': 'Yes', 'Student': 'No', 'Employment': 'Employed full-time', 'CompanySize': '20 to 99 employees', 'YearsCoding': '24-26 years'}, {'Respondent': 5, 'Hobby': 'No', 'OpenSource': 'No', 'Student': 'No', 'Employment': 'Employed full-time', 'CompanySize': '100 to 499 employees', 'YearsCoding': '18-20 years'}, {'Respondent': 7, 'Hobby': 'Yes', 'OpenSource': 'No', 'Student': 'Yes, part-time', 'Employment': 'Employed full-time', 'CompanySize': '10,000 or more employees', 'YearsCoding': '6-8 years'}, {'Respondent': 8, 'Hobby': 'Yes', 'OpenSource': 'No', 'Student': 'No', 'Employment': 'Employed full-time', 'CompanySize': '10 to 19 employees', 'YearsCoding': '6-8 years'}, {'Respondent': 9, 'Hobby': 'Yes', 'OpenSource': 'Yes', 'Student': 'No', 'Employment': 'Employed full-time', 'CompanySize': '10,000 or more employees', 'YearsCoding': '9-11 years'}, {'Respondent': 10, 'Hobby': 'Yes', 'OpenSource': 'Yes', 'Student': 'No', 'Employment': 'Employed full-time', 'CompanySize': '10 to 19 employees', 'YearsCoding': '0-2 years'}, {'Respondent': 11, 'Hobby': 'Yes', 'OpenSource': 'Yes', 'Student': 'No', 'Employment': 'Employed full-time', 'CompanySize': '100 to 499 employees', 'YearsCoding': '30 or more years'}, {'Respondent': 16, 'Hobby': 'No', 'OpenSource': 'Yes', 'Student': 'No', 'Employment': 'Employed full-time', 'CompanySize': '500 to 999 employees', 'YearsCoding': '0-2 years'}, {'Respondent': 17, 'Hobby': 'Yes', 'OpenSource': 'No', 'Student': 'No', 'Employment': 'Employed full-time', 'CompanySize': '1,000 to 4,999 employees', 'YearsCoding': '6-8 years'}, {'Respondent': 18, 'Hobby': 'Yes', 'OpenSource': 'Yes', 'Student': 'No', 'Employment': 'Employed full-time', 'CompanySize': '100 to 499 employees', 'YearsCoding': '0-2 years'}, {'Respondent': 20, 'Hobby': 'No', 'OpenSource': 'No', 'Student': 'No', 'Employment': 'Employed full-time', 'CompanySize': '20 to 99 employees', 'YearsCoding': '3-5 years'}, {'Respondent': 21, 'Hobby': 'No', 'OpenSource': 'No', 'Student': 'Yes, full-time', 'Employment': 'Employed full-time', 'CompanySize': '20 to 99 employees', 'YearsCoding': '0-2 years'}, {'Respondent': 22, 'Hobby': 'Yes', 'OpenSource': 'No', 'Student': 'No', 'Employment': 'Employed full-time', 'CompanySize': '5,000 to 9,999 employees', 'YearsCoding': '3-5 years'}, {'Respondent': 26, 'Hobby': 'No', 'OpenSource': 'No', 'Student': 'Yes, full-time', 'Employment': 'Employed part-time', 'CompanySize': '1,000 to 4,999 employees', 'YearsCoding': '0-2 years'}, {'Respondent': 27, 'Hobby': 'Yes', 'OpenSource': 'No', 'Student': 'No', 'Employment': 'Employed full-time', 'CompanySize': '10 to 19 employees', 'YearsCoding': '6-8 years'}, {'Respondent': 29, 'Hobby': 'Yes', 'OpenSource': 'Yes', 'Student': 'Yes, full-time', 'Employment': 'Employed full-time', 'CompanySize': '10,000 or more employees', 'YearsCoding': '0-2 years'}, {'Respondent': 31, 'Hobby': 'Yes', 'OpenSource': 'Yes', 'Student': 'Yes, full-time', 'Employment': 'Employed part-time', 'CompanySize': 'Fewer than 10 employees', 'YearsCoding': '3-5 years'}, {'Respondent': 33, 'Hobby': 'Yes', 'OpenSource': 'Yes', 'Student': 'No', 'Employment': 'Employed full-time', 'CompanySize': '1,000 to 4,999 employees', 'YearsCoding': '15-17 years'}, {'Respondent': 34, 'Hobby': 'Yes', 'OpenSource': 'No', 'Student': 'No', 'Employment': 'Employed full-time', 'CompanySize': '500 to 999 employees', 'YearsCoding': '24-26 years'}, {'Respondent': 37, 'Hobby': 'No', 'OpenSource': 'No', 'Student': 'No', 'Employment': 'Employed full-time', 'CompanySize': '20 to 99 employees', 'YearsCoding': '9-11 years'}, {'Respondent': 38, 'Hobby': 'Yes', 'OpenSource': 'No', 'Student': 'No', 'Employment': 'Employed full-time', 'CompanySize': '10 to 19 employees', 'YearsCoding': '18-20 years'}, {'Respondent': 39, 'Hobby': 'Yes', 'OpenSource': 'No', 'Student': 'No', 'Employment': 'Employed full-time', 'CompanySize': '100 to 499 employees', 'YearsCoding': '3-5 years'}, {'Respondent': 41, 'Hobby': 'Yes', 'OpenSource': 'Yes', 'Student': 'Yes, full-time', 'Employment': 'Employed full-time', 'CompanySize': '20 to 99 employees', 'YearsCoding': '9-11 years'}, {'Respondent': 43, 'Hobby': 'Yes', 'OpenSource': 'Yes', 'Student': 'No', 'Employment': 'Employed full-time', 'CompanySize': '1,000 to 4,999 employees', 'YearsCoding': '12-14 years'}, {'Respondent': 44, 'Hobby': 'No', 'OpenSource': 'No', 'Student': 'No', 'Employment': 'Employed full-time', 'CompanySize': '100 to 499 employees', 'YearsCoding': '3-5 years'}, {'Respondent': 45, 'Hobby': 'Yes', 'OpenSource': 'Yes', 'Student': 'No', 'Employment': 'Employed full-time', 'CompanySize': '10,000 or more employees', 'YearsCoding': '6-8 years'}, {'Respondent': 46, 'Hobby': 'Yes', 'OpenSource': 'Yes', 'Student': 'No', 'Employment': 'Employed full-time', 'CompanySize': 'Fewer than 10 employees', 'YearsCoding': '9-11 years'}, {'Respondent': 47, 'Hobby': 'No', 'OpenSource': 'No', 'Student': 'No', 'Employment': 'Employed full-time', 'CompanySize': '20 to 99 employees', 'YearsCoding': '3-5 years'}, {'Respondent': 50, 'Hobby': 'Yes', 'OpenSource': 'Yes', 'Student': 'Yes, full-time', 'Employment': 'Employed full-time', 'CompanySize': '20 to 99 employees', 'YearsCoding': '9-11 years'}, {'Respondent': 51, 'Hobby': 'Yes', 'OpenSource': 'No', 'Student': 'No', 'Employment': 'Employed full-time', 'CompanySize': '500 to 999 employees', 'YearsCoding': '6-8 years'}, {'Respondent': 52, 'Hobby': 'No', 'OpenSource': 'No', 'Student': 'No', 'Employment': 'Employed full-time', 'CompanySize': '1,000 to 4,999 employees', 'YearsCoding': '3-5 years'}, {'Respondent': 53, 'Hobby': 'Yes', 'OpenSource': 'No', 'Student': 'No', 'Employment': 'Employed full-time', 'CompanySize': '10,000 or more employees', 'YearsCoding': '18-20 years'}, {'Respondent': 54, 'Hobby': 'Yes', 'OpenSource': 'Yes', 'Student': 'No', 'Employment': 'Employed full-time', 'CompanySize': '20 to 99 employees', 'YearsCoding': '12-14 years'}, {'Respondent': 55, 'Hobby': 'Yes', 'OpenSource': 'Yes', 'Student': 'No', 'Employment': 'Employed full-time', 'CompanySize': 'Fewer than 10 employees', 'YearsCoding': '9-11 years'}, {'Respondent': 56, 'Hobby': 'Yes', 'OpenSource': 'No', 'Student': 'Yes, part-time', 'Employment': 'Employed full-time', 'CompanySize': '20 to 99 employees', 'YearsCoding': '6-8 years'}, {'Respondent': 57, 'Hobby': 'Yes', 'OpenSource': 'Yes', 'Student': 'Yes, part-time', 'Employment': 'Employed full-time', 'CompanySize': '100 to 499 employees', 'YearsCoding': '0-2 years'}, {'Respondent': 59, 'Hobby': 'Yes', 'OpenSource': 'Yes', 'Student': 'No', 'Employment': 'Employed full-time', 'CompanySize': '20 to 99 employees', 'YearsCoding': '30 or more years'}, {'Respondent': 60, 'Hobby': 'Yes', 'OpenSource': 'No', 'Student': 'Yes, full-time', 'Employment': 'Employed part-time', 'CompanySize': '1,000 to 4,999 employees', 'YearsCoding': '9-11 years'}, {'Respondent': 61, 'Hobby': 'Yes', 'OpenSource': 'No', 'Student': 'No', 'Employment': 'Employed full-time', 'CompanySize': '20 to 99 employees', 'YearsCoding': '0-2 years'}, {'Respondent': 63, 'Hobby': 'No', 'OpenSource': 'No', 'Student': 'No', 'Employment': 'Employed full-time', 'CompanySize': '1,000 to 4,999 employees', 'YearsCoding': '24-26 years'}, {'Respondent': 66, 'Hobby': 'Yes', 'OpenSource': 'Yes', 'Student': 'No', 'Employment': 'Employed full-time', 'CompanySize': '5,000 to 9,999 employees', 'YearsCoding': '9-11 years'}, {'Respondent': 67, 'Hobby': 'Yes', 'OpenSource': 'No', 'Student': 'No', 'Employment': 'Employed full-time', 'CompanySize': '20 to 99 employees', 'YearsCoding': '6-8 years'}, {'Respondent': 71, 'Hobby': 'Yes', 'OpenSource': 'No', 'Student': 'No', 'Employment': 'Employed full-time', 'CompanySize': '100 to 499 employees', 'YearsCoding': '3-5 years'}, {'Respondent': 72, 'Hobby': 'Yes', 'OpenSource': 'Yes', 'Student': 'No', 'Employment': 'Employed full-time', 'CompanySize': '20 to 99 employees', 'YearsCoding': '15-17 years'}, {'Respondent': 75, 'Hobby': 'Yes', 'OpenSource': 'No', 'Student': 'No', 'Employment': 'Employed full-time', 'CompanySize': '20 to 99 employees', 'YearsCoding': '3-5 years'}, {'Respondent': 76, 'Hobby': 'Yes', 'OpenSource': 'Yes', 'Student': 'Yes, full-time', 'Employment': 'Employed full-time', 'CompanySize': '100 to 499 employees', 'YearsCoding': '6-8 years'}, {'Respondent': 77, 'Hobby': 'Yes', 'OpenSource': 'Yes', 'Student': 'No', 'Employment': 'Employed full-time', 'CompanySize': '100 to 499 employees', 'YearsCoding': '15-17 years'}, {'Respondent': 78, 'Hobby': 'Yes', 'OpenSource': 'No', 'Student': 'No', 'Employment': 'Employed full-time', 'CompanySize': '500 to 999 employees', 'YearsCoding': '21-23 years'}, {'Respondent': 79, 'Hobby': 'Yes', 'OpenSource': 'Yes', 'Student': 'No', 'Employment': 'Employed full-time', 'CompanySize': '20 to 99 employees', 'YearsCoding': '18-20 years'}, {'Respondent': 80, 'Hobby': 'Yes', 'OpenSource': 'Yes', 'Student': 'No', 'Employment': 'Employed full-time', 'CompanySize': '100 to 499 employees', 'YearsCoding': '9-11 years'}, {'Respondent': 81, 'Hobby': 'No', 'OpenSource': 'Yes', 'Student': 'No', 'Employment': 'Employed full-time', 'CompanySize': '100 to 499 employees', 'YearsCoding': '9-11 years'}, {'Respondent': 82, 'Hobby': 'No', 'OpenSource': 'No', 'Student': 'No', 'Employment': 'Employed full-time', 'CompanySize': '10,000 or more employees', 'YearsCoding': '9-11 years'}, {'Respondent': 83, 'Hobby': 'Yes', 'OpenSource': 'Yes', 'Student': 'Yes, full-time', 'Employment': 'Employed full-time', 'CompanySize': '20 to 99 employees', 'YearsCoding': '6-8 years'}, {'Respondent': 84, 'Hobby': 'Yes', 'OpenSource': 'No', 'Student': 'No', 'Employment': 'Employed full-time', 'CompanySize': '10,000 or more employees', 'YearsCoding': '18-20 years'}, {'Respondent': 85, 'Hobby': 'Yes', 'OpenSource': 'Yes', 'Student': 'Yes, part-time', 'Employment': 'Employed part-time', 'CompanySize': '10 to 19 employees', 'YearsCoding': '9-11 years'}, {'Respondent': 87, 'Hobby': 'Yes', 'OpenSource': 'Yes', 'Student': 'No', 'Employment': 'Employed full-time', 'CompanySize': '20 to 99 employees', 'YearsCoding': '9-11 years'}, {'Respondent': 88, 'Hobby': 'No', 'OpenSource': 'No', 'Student': 'No', 'Employment': 'Employed full-time', 'CompanySize': 'Fewer than 10 employees', 'YearsCoding': '18-20 years'}, {'Respondent': 89, 'Hobby': 'Yes', 'OpenSource': 'No', 'Student': 'Yes, full-time', 'Employment': 'Employed part-time', 'CompanySize': '10 to 19 employees', 'YearsCoding': '3-5 years'}, {'Respondent': 90, 'Hobby': 'No', 'OpenSource': 'No', 'Student': 'No', 'Employment': 'Employed full-time', 'CompanySize': '10,000 or more employees', 'YearsCoding': '12-14 years'}, {'Respondent': 91, 'Hobby': 'Yes', 'OpenSource': 'Yes', 'Student': 'No', 'Employment': 'Employed full-time', 'CompanySize': '10,000 or more employees', 'YearsCoding': '12-14 years'}, {'Respondent': 92, 'Hobby': 'Yes', 'OpenSource': 'Yes', 'Student': 'No', 'Employment': 'Employed full-time', 'CompanySize': '500 to 999 employees', 'YearsCoding': '6-8 years'}, {'Respondent': 95, 'Hobby': 'Yes', 'OpenSource': 'No', 'Student': 'No', 'Employment': 'Employed full-time', 'CompanySize': '20 to 99 employees', 'YearsCoding': '3-5 years'}, {'Respondent': 96, 'Hobby': 'Yes', 'OpenSource': 'Yes', 'Student': 'No', 'Employment': 'Employed full-time', 'CompanySize': '1,000 to 4,999 employees', 'YearsCoding': '6-8 years'}, {'Respondent': 97, 'Hobby': 'Yes', 'OpenSource': 'No', 'Student': 'No', 'Employment': 'Employed full-time', 'CompanySize': '10 to 19 employees', 'YearsCoding': '3-5 years'}, {'Respondent': 98, 'Hobby': 'Yes', 'OpenSource': 'No', 'Student': 'No', 'Employment': 'Employed full-time', 'CompanySize': '1,000 to 4,999 employees', 'YearsCoding': '9-11 years'}, {'Respondent': 101, 'Hobby': 'Yes', 'OpenSource': 'Yes', 'Student': 'Yes, full-time', 'Employment': 'Employed full-time', 'CompanySize': '100 to 499 employees', 'YearsCoding': '3-5 years'}, {'Respondent': 103, 'Hobby': 'Yes', 'OpenSource': 'Yes', 'Student': 'Yes, full-time', 'Employment': 'Employed part-time', 'CompanySize': '10 to 19 employees', 'YearsCoding': '6-8 years'}, {'Respondent': 105, 'Hobby': 'Yes', 'OpenSource': 'Yes', 'Student': 'No', 'Employment': 'Employed full-time', 'CompanySize': '10,000 or more employees', 'YearsCoding': '12-14 years'}, {'Respondent': 106, 'Hobby': 'Yes', 'OpenSource': 'Yes', 'Student': 'No', 'Employment': 'Employed full-time', 'CompanySize': '10 to 19 employees', 'YearsCoding': '12-14 years'}, {'Respondent': 107, 'Hobby': 'No', 'OpenSource': 'No', 'Student': 'No', 'Employment': 'Employed full-time', 'CompanySize': 'Fewer than 10 employees', 'YearsCoding': '6-8 years'}, {'Respondent': 111, 'Hobby': 'Yes', 'OpenSource': 'Yes', 'Student': 'No', 'Employment': 'Employed full-time', 'CompanySize': 'Fewer than 10 employees', 'YearsCoding': '0-2 years'}, {'Respondent': 112, 'Hobby': 'Yes', 'OpenSource': 'Yes', 'Student': 'No', 'Employment': 'Employed full-time', 'CompanySize': '20 to 99 employees', 'YearsCoding': '3-5 years'}, {'Respondent': 113, 'Hobby': 'Yes', 'OpenSource': 'Yes', 'Student': 'No', 'Employment': 'Employed full-time', 'CompanySize': '10,000 or more employees', 'YearsCoding': '24-26 years'}, {'Respondent': 117, 'Hobby': 'No', 'OpenSource': 'No', 'Student': 'No', 'Employment': 'Employed full-time', 'CompanySize': '1,000 to 4,999 employees', 'YearsCoding': '15-17 years'}, {'Respondent': 118, 'Hobby': 'Yes', 'OpenSource': 'Yes', 'Student': 'No', 'Employment': 'Employed full-time', 'CompanySize': '20 to 99 employees', 'YearsCoding': '12-14 years'}, {'Respondent': 119, 'Hobby': 'Yes', 'OpenSource': 'No', 'Student': 'No', 'Employment': 'Employed full-time', 'CompanySize': '100 to 499 employees', 'YearsCoding': '3-5 years'}, {'Respondent': 120, 'Hobby': 'Yes', 'OpenSource': 'Yes', 'Student': 'No', 'Employment': 'Employed full-time', 'CompanySize': '100 to 499 employees', 'YearsCoding': '15-17 years'}, {'Respondent': 122, 'Hobby': 'Yes', 'OpenSource': 'No', 'Student': 'No', 'Employment': 'Employed full-time', 'CompanySize': 'Fewer than 10 employees', 'YearsCoding': '0-2 years'}, {'Respondent': 123, 'Hobby': 'Yes', 'OpenSource': 'No', 'Student': 'No', 'Employment': 'Employed full-time', 'CompanySize': '10,000 or more employees', 'YearsCoding': '15-17 years'}, {'Respondent': 124, 'Hobby': 'Yes', 'OpenSource': 'Yes', 'Student': 'No', 'Employment': 'Employed full-time', 'CompanySize': '10,000 or more employees', 'YearsCoding': '24-26 years'}, {'Respondent': 125, 'Hobby': 'Yes', 'OpenSource': 'Yes', 'Student': 'No', 'Employment': 'Employed full-time', 'CompanySize': 'Fewer than 10 employees', 'YearsCoding': '3-5 years'}, {'Respondent': 126, 'Hobby': 'Yes', 'OpenSource': 'Yes', 'Student': 'Yes, part-time', 'Employment': 'Employed full-time', 'CompanySize': 'Fewer than 10 employees', 'YearsCoding': '3-5 years'}, {'Respondent': 127, 'Hobby': 'Yes', 'OpenSource': 'No', 'Student': 'No', 'Employment': 'Employed full-time', 'CompanySize': '100 to 499 employees', 'YearsCoding': '9-11 years'}, {'Respondent': 129, 'Hobby': 'Yes', 'OpenSource': 'Yes', 'Student': 'Yes, full-time', 'Employment': 'Employed full-time', 'CompanySize': '20 to 99 employees', 'YearsCoding': '6-8 years'}, {'Respondent': 131, 'Hobby': 'No', 'OpenSource': 'No', 'Student': 'No', 'Employment': 'Employed full-time', 'CompanySize': '1,000 to 4,999 employees', 'YearsCoding': '3-5 years'}, {'Respondent': 132, 'Hobby': 'Yes', 'OpenSource': 'No', 'Student': 'No', 'Employment': 'Employed full-time', 'CompanySize': '500 to 999 employees', 'YearsCoding': '9-11 years'}, {'Respondent': 133, 'Hobby': 'Yes', 'OpenSource': 'No', 'Student': 'Yes, full-time', 'Employment': 'Employed full-time', 'CompanySize': '10 to 19 employees', 'YearsCoding': '0-2 years'}, {'Respondent': 134, 'Hobby': 'No', 'OpenSource': 'No', 'Student': 'No', 'Employment': 'Employed full-time', 'CompanySize': '20 to 99 employees', 'YearsCoding': '6-8 years'}, {'Respondent': 135, 'Hobby': 'Yes', 'OpenSource': 'No', 'Student': 'No', 'Employment': 'Employed full-time', 'CompanySize': '10,000 or more employees', 'YearsCoding': '0-2 years'}, {'Respondent': 136, 'Hobby': 'Yes', 'OpenSource': 'Yes', 'Student': 'Yes, full-time', 'Employment': 'Employed part-time', 'CompanySize': '100 to 499 employees', 'YearsCoding': '3-5 years'}, {'Respondent': 137, 'Hobby': 'Yes', 'OpenSource': 'Yes', 'Student': 'No', 'Employment': 'Employed full-time', 'CompanySize': '500 to 999 employees', 'YearsCoding': '6-8 years'}, {'Respondent': 138, 'Hobby': 'No', 'OpenSource': 'No', 'Student': 'No', 'Employment': 'Employed full-time', 'CompanySize': '1,000 to 4,999 employees', 'YearsCoding': '6-8 years'}, {'Respondent': 140, 'Hobby': 'Yes', 'OpenSource': 'No', 'Student': 'No', 'Employment': 'Employed full-time', 'CompanySize': '100 to 499 employees', 'YearsCoding': '0-2 years'}, {'Respondent': 141, 'Hobby': 'Yes', 'OpenSource': 'No', 'Student': 'No', 'Employment': 'Employed full-time', 'CompanySize': '20 to 99 employees', 'YearsCoding': '9-11 years'}, {'Respondent': 142, 'Hobby': 'Yes', 'OpenSource': 'No', 'Student': 'No', 'Employment': 'Employed full-time', 'CompanySize': '100 to 499 employees', 'YearsCoding': '15-17 years'}, {'Respondent': 143, 'Hobby': 'No', 'OpenSource': 'Yes', 'Student': 'Yes, full-time', 'Employment': 'Employed full-time', 'CompanySize': '10 to 19 employees', 'YearsCoding': '0-2 years'}, {'Respondent': 146, 'Hobby': 'Yes', 'OpenSource': 'No', 'Student': 'Yes, part-time', 'Employment': 'Employed part-time', 'CompanySize': '500 to 999 employees', 'YearsCoding': '0-2 years'}, {'Respondent': 148, 'Hobby': 'Yes', 'OpenSource': 'Yes', 'Student': 'No', 'Employment': 'Employed full-time', 'CompanySize': '20 to 99 employees', 'YearsCoding': '6-8 years'}, {'Respondent': 149, 'Hobby': 'Yes', 'OpenSource': 'No', 'Student': 'Yes, part-time', 'Employment': 'Employed full-time', 'CompanySize': '500 to 999 employees', 'YearsCoding': '0-2 years'}, {'Respondent': 150, 'Hobby': 'Yes', 'OpenSource': 'Yes', 'Student': 'No', 'Employment': 'Employed full-time', 'CompanySize': '1,000 to 4,999 employees', 'YearsCoding': '3-5 years'}, {'Respondent': 151, 'Hobby': 'Yes', 'OpenSource': 'Yes', 'Student': 'No', 'Employment': 'Employed full-time', 'CompanySize': '10,000 or more employees', 'YearsCoding': '12-14 years'}, {'Respondent': 152, 'Hobby': 'Yes', 'OpenSource': 'No', 'Student': 'No', 'Employment': 'Employed full-time', 'CompanySize': '10 to 19 employees', 'YearsCoding': '0-2 years'}, {'Respondent': 153, 'Hobby': 'No', 'OpenSource': 'No', 'Student': 'No', 'Employment': 'Employed full-time', 'CompanySize': '20 to 99 employees', 'YearsCoding': '6-8 years'}, {'Respondent': 155, 'Hobby': 'No', 'OpenSource': 'No', 'Student': 'No', 'Employment': 'Employed full-time', 'CompanySize': 'Fewer than 10 employees', 'YearsCoding': '3-5 years'}, {'Respondent': 156, 'Hobby': 'Yes', 'OpenSource': 'Yes', 'Student': 'Yes, part-time', 'Employment': 'Employed full-time', 'CompanySize': '20 to 99 employees', 'YearsCoding': '0-2 years'}, {'Respondent': 157, 'Hobby': 'Yes', 'OpenSource': 'Yes', 'Student': 'No', 'Employment': 'Employed full-time', 'CompanySize': '100 to 499 employees', 'YearsCoding': '6-8 years'}, {'Respondent': 158, 'Hobby': 'Yes', 'OpenSource': 'Yes', 'Student': 'No', 'Employment': 'Employed full-time', 'CompanySize': '10 to 19 employees', 'YearsCoding': '3-5 years'}, {'Respondent': 160, 'Hobby': 'Yes', 'OpenSource': 'No', 'Student': 'No', 'Employment': 'Employed full-time', 'CompanySize': '20 to 99 employees', 'YearsCoding': '3-5 years'}, {'Respondent': 161, 'Hobby': 'Yes', 'OpenSource': 'Yes', 'Student': 'No', 'Employment': 'Employed full-time', 'CompanySize': '10 to 19 employees', 'YearsCoding': '9-11 years'}, {'Respondent': 162, 'Hobby': 'Yes', 'OpenSource': 'No', 'Student': 'No', 'Employment': 'Employed full-time', 'CompanySize': '5,000 to 9,999 employees', 'YearsCoding': '3-5 years'}, {'Respondent': 163, 'Hobby': 'Yes', 'OpenSource': 'Yes', 'Student': 'No', 'Employment': 'Employed full-time', 'CompanySize': '1,000 to 4,999 employees', 'YearsCoding': '21-23 years'}, {'Respondent': 164, 'Hobby': 'Yes', 'OpenSource': 'Yes', 'Student': 'No', 'Employment': 'Employed full-time', 'CompanySize': '100 to 499 employees', 'YearsCoding': '3-5 years'}, {'Respondent': 167, 'Hobby': 'Yes', 'OpenSource': 'Yes', 'Student': 'No', 'Employment': 'Employed full-time', 'CompanySize': '10,000 or more employees', 'YearsCoding': '3-5 years'}, {'Respondent': 168, 'Hobby': 'Yes', 'OpenSource': 'No', 'Student': 'No', 'Employment': 'Employed full-time', 'CompanySize': '100 to 499 employees', 'YearsCoding': '3-5 years'}, {'Respondent': 169, 'Hobby': 'Yes', 'OpenSource': 'Yes', 'Student': 'No', 'Employment': 'Employed full-time', 'CompanySize': '500 to 999 employees', 'YearsCoding': '21-23 years'}, {'Respondent': 170, 'Hobby': 'No', 'OpenSource': 'No', 'Student': 'No', 'Employment': 'Employed full-time', 'CompanySize': '1,000 to 4,999 employees', 'YearsCoding': '3-5 years'}, {'Respondent': 175, 'Hobby': 'No', 'OpenSource': 'No', 'Student': 'No', 'Employment': 'Employed full-time', 'CompanySize': '500 to 999 employees', 'YearsCoding': '12-14 years'}, {'Respondent': 177, 'Hobby': 'Yes', 'OpenSource': 'No', 'Student': 'No', 'Employment': 'Employed full-time', 'CompanySize': '100 to 499 employees', 'YearsCoding': '6-8 years'}, {'Respondent': 179, 'Hobby': 'Yes', 'OpenSource': 'No', 'Student': 'Yes, full-time', 'Employment': 'Employed full-time', 'CompanySize': '10 to 19 employees', 'YearsCoding': '12-14 years'}, {'Respondent': 181, 'Hobby': 'Yes', 'OpenSource': 'Yes', 'Student': 'Yes, full-time', 'Employment': 'Employed full-time', 'CompanySize': '100 to 499 employees', 'YearsCoding': '9-11 years'}, {'Respondent': 182, 'Hobby': 'Yes', 'OpenSource': 'Yes', 'Student': 'Yes, full-time', 'Employment': 'Employed full-time', 'CompanySize': '1,000 to 4,999 employees', 'YearsCoding': '3-5 years'}, {'Respondent': 184, 'Hobby': 'Yes', 'OpenSource': 'No', 'Student': 'No', 'Employment': 'Employed full-time', 'CompanySize': 'Fewer than 10 employees', 'YearsCoding': '9-11 years'}, {'Respondent': 186, 'Hobby': 'Yes', 'OpenSource': 'Yes', 'Student': 'No', 'Employment': 'Employed full-time', 'CompanySize': '100 to 499 employees', 'YearsCoding': '15-17 years'}, {'Respondent': 187, 'Hobby': 'Yes', 'OpenSource': 'No', 'Student': 'No', 'Employment': 'Employed full-time', 'CompanySize': '100 to 499 employees', 'YearsCoding': '9-11 years'}, {'Respondent': 188, 'Hobby': 'No', 'OpenSource': 'No', 'Student': 'Yes, full-time', 'Employment': 'Employed full-time', 'CompanySize': '500 to 999 employees', 'YearsCoding': '3-5 years'}, {'Respondent': 189, 'Hobby': 'No', 'OpenSource': 'No', 'Student': 'Yes, full-time', 'Employment': 'Employed full-time', 'CompanySize': '1,000 to 4,999 employees', 'YearsCoding': '3-5 years'}, {'Respondent': 192, 'Hobby': 'Yes', 'OpenSource': 'No', 'Student': 'No', 'Employment': 'Employed full-time', 'CompanySize': '100 to 499 employees', 'YearsCoding': '18-20 years'}, {'Respondent': 194, 'Hobby': 'Yes', 'OpenSource': 'No', 'Student': 'No', 'Employment': 'Employed full-time', 'CompanySize': '20 to 99 employees', 'YearsCoding': '15-17 years'}, {'Respondent': 195, 'Hobby': 'Yes', 'OpenSource': 'Yes', 'Student': 'No', 'Employment': 'Employed full-time', 'CompanySize': '20 to 99 employees', 'YearsCoding': '3-5 years'}, {'Respondent': 196, 'Hobby': 'Yes', 'OpenSource': 'No', 'Student': 'No', 'Employment': 'Employed full-time', 'CompanySize': '100 to 499 employees', 'YearsCoding': '9-11 years'}, {'Respondent': 198, 'Hobby': 'Yes', 'OpenSource': 'No', 'Student': 'No', 'Employment': 'Employed full-time', 'CompanySize': '10,000 or more employees', 'YearsCoding': '15-17 years'}, {'Respondent': 202, 'Hobby': 'Yes', 'OpenSource': 'Yes', 'Student': 'Yes, full-time', 'Employment': 'Employed full-time', 'CompanySize': '10 to 19 employees', 'YearsCoding': '3-5 years'}, {'Respondent': 206, 'Hobby': 'Yes', 'OpenSource': 'Yes', 'Student': 'No', 'Employment': 'Employed full-time', 'CompanySize': '10 to 19 employees', 'YearsCoding': '6-8 years'}, {'Respondent': 211, 'Hobby': 'Yes', 'OpenSource': 'No', 'Student': 'No', 'Employment': 'Employed full-time', 'CompanySize': '20 to 99 employees', 'YearsCoding': '3-5 years'}, {'Respondent': 212, 'Hobby': 'Yes', 'OpenSource': 'No', 'Student': 'No', 'Employment': 'Employed full-time', 'CompanySize': '10 to 19 employees', 'YearsCoding': '12-14 years'}, {'Respondent': 213, 'Hobby': 'Yes', 'OpenSource': 'Yes', 'Student': 'No', 'Employment': 'Employed full-time', 'CompanySize': '1,000 to 4,999 employees', 'YearsCoding': '9-11 years'}, {'Respondent': 214, 'Hobby': 'Yes', 'OpenSource': 'No', 'Student': 'No', 'Employment': 'Employed full-time', 'CompanySize': '1,000 to 4,999 employees', 'YearsCoding': '9-11 years'}, {'Respondent': 216, 'Hobby': 'Yes', 'OpenSource': 'Yes', 'Student': 'No', 'Employment': 'Employed full-time', 'CompanySize': '1,000 to 4,999 employees', 'YearsCoding': '15-17 years'}, {'Respondent': 217, 'Hobby': 'Yes', 'OpenSource': 'No', 'Student': 'No', 'Employment': 'Employed full-time', 'CompanySize': '10,000 or more employees', 'YearsCoding': '6-8 years'}, {'Respondent': 218, 'Hobby': 'Yes', 'OpenSource': 'No', 'Student': 'No', 'Employment': 'Employed full-time', 'CompanySize': '20 to 99 employees', 'YearsCoding': '15-17 years'}, {'Respondent': 219, 'Hobby': 'Yes', 'OpenSource': 'No', 'Student': 'No', 'Employment': 'Employed full-time', 'CompanySize': '10 to 19 employees', 'YearsCoding': '3-5 years'}, {'Respondent': 222, 'Hobby': 'Yes', 'OpenSource': 'Yes', 'Student': 'Yes, part-time', 'Employment': 'Employed full-time', 'CompanySize': '20 to 99 employees', 'YearsCoding': '6-8 years'}, {'Respondent': 226, 'Hobby': 'Yes', 'OpenSource': 'No', 'Student': 'No', 'Employment': 'Employed full-time', 'CompanySize': '10 to 19 employees', 'YearsCoding': '9-11 years'}, {'Respondent': 228, 'Hobby': 'Yes', 'OpenSource': 'Yes', 'Student': 'No', 'Employment': 'Employed full-time', 'CompanySize': '100 to 499 employees', 'YearsCoding': '30 or more years'}, {'Respondent': 230, 'Hobby': 'Yes', 'OpenSource': 'Yes', 'Student': 'No', 'Employment': 'Employed full-time', 'CompanySize': '1,000 to 4,999 employees', 'YearsCoding': '3-5 years'}, {'Respondent': 231, 'Hobby': 'Yes', 'OpenSource': 'Yes', 'Student': 'Yes, full-time', 'Employment': 'Employed full-time', 'CompanySize': '100 to 499 employees', 'YearsCoding': '6-8 years'}, {'Respondent': 233, 'Hobby': 'No', 'OpenSource': 'No', 'Student': 'No', 'Employment': 'Employed full-time', 'CompanySize': '500 to 999 employees', 'YearsCoding': '6-8 years'}, {'Respondent': 234, 'Hobby': 'Yes', 'OpenSource': 'No', 'Student': 'No', 'Employment': 'Employed full-time', 'CompanySize': '500 to 999 employees', 'YearsCoding': '3-5 years'}, {'Respondent': 236, 'Hobby': 'No', 'OpenSource': 'No', 'Student': 'Yes, part-time', 'Employment': 'Employed full-time', 'CompanySize': '100 to 499 employees', 'YearsCoding': '0-2 years'}, {'Respondent': 237, 'Hobby': 'Yes', 'OpenSource': 'Yes', 'Student': 'No', 'Employment': 'Employed full-time', 'CompanySize': 'Fewer than 10 employees', 'YearsCoding': '6-8 years'}, {'Respondent': 240, 'Hobby': 'Yes', 'OpenSource': 'Yes', 'Student': 'No', 'Employment': 'Employed full-time', 'CompanySize': '10 to 19 employees', 'YearsCoding': '6-8 years'}, {'Respondent': 243, 'Hobby': 'Yes', 'OpenSource': 'No', 'Student': 'No', 'Employment': 'Employed full-time', 'CompanySize': '20 to 99 employees', 'YearsCoding': '3-5 years'}, {'Respondent': 244, 'Hobby': 'Yes', 'OpenSource': 'Yes', 'Student': 'No', 'Employment': 'Employed full-time', 'CompanySize': '10 to 19 employees', 'YearsCoding': '9-11 years'}, {'Respondent': 245, 'Hobby': 'Yes', 'OpenSource': 'Yes', 'Student': 'No', 'Employment': 'Employed full-time', 'CompanySize': '100 to 499 employees', 'YearsCoding': '12-14 years'}, {'Respondent': 246, 'Hobby': 'Yes', 'OpenSource': 'No', 'Student': 'No', 'Employment': 'Employed full-time', 'CompanySize': '1,000 to 4,999 employees', 'YearsCoding': '15-17 years'}, {'Respondent': 247, 'Hobby': 'Yes', 'OpenSource': 'Yes', 'Student': 'Yes, part-time', 'Employment': 'Employed part-time', 'CompanySize': '10 to 19 employees', 'YearsCoding': '6-8 years'}, {'Respondent': 248, 'Hobby': 'Yes', 'OpenSource': 'No', 'Student': 'No', 'Employment': 'Employed full-time', 'CompanySize': 'Fewer than 10 employees', 'YearsCoding': '9-11 years'}, {'Respondent': 249, 'Hobby': 'Yes', 'OpenSource': 'Yes', 'Student': 'No', 'Employment': 'Employed full-time', 'CompanySize': '20 to 99 employees', 'YearsCoding': '9-11 years'}, {'Respondent': 250, 'Hobby': 'Yes', 'OpenSource': 'Yes', 'Student': 'No', 'Employment': 'Employed full-time', 'CompanySize': '1,000 to 4,999 employees', 'YearsCoding': '3-5 years'}, {'Respondent': 251, 'Hobby': 'No', 'OpenSource': 'No', 'Student': 'No', 'Employment': 'Employed full-time', 'CompanySize': '100 to 499 employees', 'YearsCoding': '12-14 years'}, {'Respondent': 253, 'Hobby': 'Yes', 'OpenSource': 'Yes', 'Student': 'Yes, full-time', 'Employment': 'Employed full-time', 'CompanySize': '20 to 99 employees', 'YearsCoding': '0-2 years'}, {'Respondent': 254, 'Hobby': 'Yes', 'OpenSource': 'Yes', 'Student': 'No', 'Employment': 'Employed full-time', 'CompanySize': '20 to 99 employees', 'YearsCoding': '0-2 years'}, {'Respondent': 255, 'Hobby': 'Yes', 'OpenSource': 'Yes', 'Student': 'No', 'Employment': 'Employed full-time', 'CompanySize': '20 to 99 employees', 'YearsCoding': '15-17 years'}, {'Respondent': 256, 'Hobby': 'Yes', 'OpenSource': 'Yes', 'Student': 'Yes, full-time', 'Employment': 'Employed part-time', 'CompanySize': 'Fewer than 10 employees', 'YearsCoding': '3-5 years'}, {'Respondent': 257, 'Hobby': 'Yes', 'OpenSource': 'No', 'Student': 'No', 'Employment': 'Employed full-time', 'CompanySize': '20 to 99 employees', 'YearsCoding': '9-11 years'}, {'Respondent': 260, 'Hobby': 'No', 'OpenSource': 'No', 'Student': 'No', 'Employment': 'Employed full-time', 'CompanySize': '10 to 19 employees', 'YearsCoding': '30 or more years'}, {'Respondent': 261, 'Hobby': 'Yes', 'OpenSource': 'No', 'Student': 'No', 'Employment': 'Employed full-time', 'CompanySize': '100 to 499 employees', 'YearsCoding': '9-11 years'}, {'Respondent': 263, 'Hobby': 'Yes', 'OpenSource': 'No', 'Student': 'No', 'Employment': 'Employed full-time', 'CompanySize': '100 to 499 employees', 'YearsCoding': '0-2 years'}, {'Respondent': 264, 'Hobby': 'Yes', 'OpenSource': 'Yes', 'Student': 'No', 'Employment': 'Employed full-time', 'CompanySize': '10 to 19 employees', 'YearsCoding': '15-17 years'}, {'Respondent': 265, 'Hobby': 'Yes', 'OpenSource': 'No', 'Student': 'No', 'Employment': 'Employed full-time', 'CompanySize': '10,000 or more employees', 'YearsCoding': '9-11 years'}, {'Respondent': 266, 'Hobby': 'No', 'OpenSource': 'No', 'Student': 'No', 'Employment': 'Employed full-time', 'CompanySize': '20 to 99 employees', 'YearsCoding': '6-8 years'}, {'Respondent': 267, 'Hobby': 'Yes', 'OpenSource': 'Yes', 'Student': 'No', 'Employment': 'Employed full-time', 'CompanySize': '10,000 or more employees', 'YearsCoding': '6-8 years'}, {'Respondent': 270, 'Hobby': 'Yes', 'OpenSource': 'No', 'Student': 'Yes, part-time', 'Employment': 'Employed full-time', 'CompanySize': '100 to 499 employees', 'YearsCoding': '0-2 years'}, {'Respondent': 271, 'Hobby': 'Yes', 'OpenSource': 'No', 'Student': 'No', 'Employment': 'Employed full-time', 'CompanySize': '20 to 99 employees', 'YearsCoding': '6-8 years'}, {'Respondent': 272, 'Hobby': 'Yes', 'OpenSource': 'No', 'Student': 'No', 'Employment': 'Employed full-time', 'CompanySize': '10 to 19 employees', 'YearsCoding': '9-11 years'}, {'Respondent': 274, 'Hobby': 'Yes', 'OpenSource': 'Yes', 'Student': 'No', 'Employment': 'Employed full-time', 'CompanySize': '100 to 499 employees', 'YearsCoding': '6-8 years'}, {'Respondent': 278, 'Hobby': 'Yes', 'OpenSource': 'No', 'Student': 'No', 'Employment': 'Employed full-time', 'CompanySize': '5,000 to 9,999 employees', 'YearsCoding': '9-11 years'}, {'Respondent': 279, 'Hobby': 'Yes', 'OpenSource': 'No', 'Student': 'No', 'Employment': 'Employed full-time', 'CompanySize': '20 to 99 employees', 'YearsCoding': '6-8 years'}, {'Respondent': 280, 'Hobby': 'Yes', 'OpenSource': 'No', 'Student': 'No', 'Employment': 'Employed full-time', 'CompanySize': '10 to 19 employees', 'YearsCoding': '3-5 years'}, {'Respondent': 282, 'Hobby': 'No', 'OpenSource': 'Yes', 'Student': 'No', 'Employment': 'Employed full-time', 'CompanySize': 'Fewer than 10 employees', 'YearsCoding': '12-14 years'}, {'Respondent': 283, 'Hobby': 'Yes', 'OpenSource': 'Yes', 'Student': 'No', 'Employment': 'Employed part-time', 'CompanySize': '10 to 19 employees', 'YearsCoding': '6-8 years'}, {'Respondent': 284, 'Hobby': 'Yes', 'OpenSource': 'No', 'Student': 'No', 'Employment': 'Employed part-time', 'CompanySize': '500 to 999 employees', 'YearsCoding': '15-17 years'}, {'Respondent': 285, 'Hobby': 'Yes', 'OpenSource': 'No', 'Student': 'No', 'Employment': 'Employed full-time', 'CompanySize': '20 to 99 employees', 'YearsCoding': '9-11 years'}, {'Respondent': 286, 'Hobby': 'Yes', 'OpenSource': 'No', 'Student': 'Yes, part-time', 'Employment': 'Employed full-time', 'CompanySize': '500 to 999 employees', 'YearsCoding': '6-8 years'}, {'Respondent': 287, 'Hobby': 'Yes', 'OpenSource': 'No', 'Student': 'Yes, full-time', 'Employment': 'Employed full-time', 'CompanySize': '100 to 499 employees', 'YearsCoding': '0-2 years'}, {'Respondent': 289, 'Hobby': 'No', 'OpenSource': 'No', 'Student': 'No', 'Employment': 'Employed full-time', 'CompanySize': '10 to 19 employees', 'YearsCoding': '18-20 years'}, {'Respondent': 291, 'Hobby': 'Yes', 'OpenSource': 'Yes', 'Student': 'Yes, full-time', 'Employment': 'Employed part-time', 'CompanySize': '20 to 99 employees', 'YearsCoding': '6-8 years'}, {'Respondent': 293, 'Hobby': 'Yes', 'OpenSource': 'Yes', 'Student': 'Yes, full-time', 'Employment': 'Employed full-time', 'CompanySize': '100 to 499 employees', 'YearsCoding': '3-5 years'}, {'Respondent': 294, 'Hobby': 'Yes', 'OpenSource': 'No', 'Student': 'Yes, part-time', 'Employment': 'Employed part-time', 'CompanySize': '500 to 999 employees', 'YearsCoding': '3-5 years'}, {'Respondent': 295, 'Hobby': 'Yes', 'OpenSource': 'Yes', 'Student': 'No', 'Employment': 'Employed full-time', 'CompanySize': '1,000 to 4,999 employees', 'YearsCoding': '9-11 years'}, {'Respondent': 296, 'Hobby': 'Yes', 'OpenSource': 'Yes', 'Student': 'No', 'Employment': 'Employed full-time', 'CompanySize': '10 to 19 employees', 'YearsCoding': '15-17 years'}, {'Respondent': 297, 'Hobby': 'Yes', 'OpenSource': 'No', 'Student': 'Yes, full-time', 'Employment': 'Employed full-time', 'CompanySize': '100 to 499 employees', 'YearsCoding': '0-2 years'}, {'Respondent': 298, 'Hobby': 'Yes', 'OpenSource': 'Yes', 'Student': 'No', 'Employment': 'Employed full-time', 'CompanySize': '100 to 499 employees', 'YearsCoding': '18-20 years'}, {'Respondent': 299, 'Hobby': 'Yes', 'OpenSource': 'Yes', 'Student': 'Yes, part-time', 'Employment': 'Employed full-time', 'CompanySize': 'Fewer than 10 employees', 'YearsCoding': '12-14 years'}]\n",
      "[Batch: 0] Will add 100 node to Graph\n"
     ]
    },
    {
     "name": "stdout",
     "output_type": "stream",
     "text": [
      "[Batch: 100] Will add 96 node to Graph\n",
      "[Batch: 0] Will add 100 node to Graph\n",
      "[Batch: 100] Will add 99 node to Graph\n",
      "[Batch: 0] Will add 100 node to Graph\n",
      "[Batch: 100] Will add 76 node to Graph\n",
      "[Batch: 0] Will add 100 node to Graph\n",
      "[Batch: 100] Will add 100 node to Graph\n",
      "[Batch: 200] Will add 100 node to Graph\n",
      "[Batch: 300] Will add 100 node to Graph\n",
      "[Batch: 400] Will add 100 node to Graph\n",
      "[Batch: 500] Will add 78 node to Graph\n"
     ]
    }
   ],
   "source": [
    "if __name__== \"__main__\":\n",
    "    data = read_data()\n",
    "    process_user_data(data)\n",
    "    process_country_data(data)\n",
    "    process_major_data(data)\n",
    "    process_dev_data(data)"
   ]
  },
  {
   "cell_type": "code",
   "execution_count": null,
   "id": "05790edf",
   "metadata": {},
   "outputs": [],
   "source": []
  }
 ],
 "metadata": {
  "kernelspec": {
   "display_name": "Python 3 (ipykernel)",
   "language": "python",
   "name": "python3"
  },
  "language_info": {
   "codemirror_mode": {
    "name": "ipython",
    "version": 3
   },
   "file_extension": ".py",
   "mimetype": "text/x-python",
   "name": "python",
   "nbconvert_exporter": "python",
   "pygments_lexer": "ipython3",
   "version": "3.9.7"
  }
 },
 "nbformat": 4,
 "nbformat_minor": 5
}
